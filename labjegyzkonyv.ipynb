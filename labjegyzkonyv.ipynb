{
 "cells": [
  {
   "cell_type": "code",
   "execution_count": 11,
   "metadata": {
    "slideshow": {
     "slide_type": "skip"
    }
   },
   "outputs": [
    {
     "data": {
      "text/html": [
       "<script>\n",
       "code_show=true;\n",
       "function code_toggle() {\n",
       " if (code_show){\n",
       " $('div.input').hide();\n",
       " $('div.output_stderr').hide();\n",
       " } else {\n",
       " $('div.input').show();\n",
       " $('div.output_stderr').show();\n",
       " }\n",
       " code_show = !code_show\n",
       "}\n",
       "$( document ).ready(code_toggle);\n",
       "</script>\n",
       "<form action='javascript:code_toggle()'><input STYLE='color: #4286f4'\n",
       "type='submit' value='Click here to toggle on/off the raw code.'></form>"
      ],
      "text/plain": [
       "<IPython.core.display.HTML object>"
      ]
     },
     "execution_count": 11,
     "metadata": {},
     "output_type": "execute_result"
    }
   ],
   "source": [
    "from IPython.display import HTML\n",
    "\n",
    "HTML('''<script>\n",
    "code_show=true;\n",
    "function code_toggle() {\n",
    " if (code_show){\n",
    " $('div.input').hide();\n",
    " $('div.output_stderr').hide();\n",
    " } else {\n",
    " $('div.input').show();\n",
    " $('div.output_stderr').show();\n",
    " }\n",
    " code_show = !code_show\n",
    "}\n",
    "$( document ).ready(code_toggle);\n",
    "</script>\n",
    "<form action='javascript:code_toggle()'><input STYLE='color: #4286f4'\n",
    "type='submit' value='Click here to toggle on/off the raw code.'></form>''')"
   ]
  },
  {
   "cell_type": "markdown",
   "metadata": {
    "slideshow": {
     "slide_type": "slide"
    }
   },
   "source": [
    "# A mikroszkóp vizsgálata\n",
    "                 (8. mérés)"
   ]
  },
  {
   "cell_type": "markdown",
   "metadata": {
    "slideshow": {
     "slide_type": "slide"
    }
   },
   "source": [
    "# A mérés célja"
   ]
  },
  {
   "cell_type": "markdown",
   "metadata": {
    "slideshow": {
     "slide_type": "subslide"
    }
   },
   "source": [
    "Az objektív nagyításának mérése, az objektív fókusztávolságának mérése, a numerikus apertúra meghatározása és lencse görbületi sugarának mérése Newton-gyűrűk alapján."
   ]
  },
  {
   "cell_type": "markdown",
   "metadata": {
    "slideshow": {
     "slide_type": "slide"
    }
   },
   "source": [
    "# A mérés rövid leírása"
   ]
  },
  {
   "cell_type": "markdown",
   "metadata": {
    "slideshow": {
     "slide_type": "subslide"
    }
   },
   "source": [
    "Az objektív nagyítását az objektív-mikrométer és az okulár-mikrométer használatával mérem meg. Így lemérem a tárgy és képtávolságokat. A fókusztávolságot egy tubushosszabbító segítségével mérem. A nagyítást még egyszer le kell mérni és ezután már számolható a fókusztávolság. A numerikus apertúra meghatározásához előbb ki kell számolni a félnyílásszöget egy olyan távolság alapján, ami azt mutatja meg, hogy a tárgyasztalon a pengét mennyivel kell elmozdítani, amíg a penge éle áthalad a képmezőn. Illetve szerepet játszik a magasítólap magassága is. Végül a lencse görbületi sugarát egy adott hullámhosszú lámpa használatával mérem. Meg kell adni az okulárskálán lemért átmérők bal és jobb oldali végpontjainak értékét. Ezekre egyenest illesztek és a meredekségből kapom meg a sugarat."
   ]
  },
  {
   "cell_type": "markdown",
   "metadata": {
    "slideshow": {
     "slide_type": "slide"
    }
   },
   "source": [
    "# Eszközök"
   ]
  },
  {
   "cell_type": "markdown",
   "metadata": {
    "slideshow": {
     "slide_type": "subslide"
    }
   },
   "source": [
    "Mikroszkóp, penge, lencsék, tubushosszabbító, objektív-mikrométer, okulár, okulár-mikrométer."
   ]
  },
  {
   "cell_type": "markdown",
   "metadata": {
    "slideshow": {
     "slide_type": "fragment"
    }
   },
   "source": [
    "# Hibaforrások\n",
    "Kezelési hiba, leolvasási hiba, koszolódás, kerekítés, az elméleti levezetés alatt használt esetleges egyszerűsítés."
   ]
  },
  {
   "cell_type": "markdown",
   "metadata": {
    "slideshow": {
     "slide_type": "slide"
    }
   },
   "source": [
    "# Kiértékelés"
   ]
  },
  {
   "cell_type": "markdown",
   "metadata": {
    "slideshow": {
     "slide_type": "subslide"
    }
   },
   "source": [
    "# Objektív nagyításának mérése\n",
    "\n",
    "Az objektív nagyítását az alábbi összefüggéssel számíthatom:\n",
    "\n",
    "$N=\\frac{K}{T}$, ahol K a képtávolság, T a tárgytávolság."
   ]
  },
  {
   "cell_type": "markdown",
   "metadata": {
    "slideshow": {
     "slide_type": "subslide"
    }
   },
   "source": [
    "# Objektív fókusztávolságának mérése\n",
    "\n",
    "A tubushosszabító hossza: $L$\n",
    "\n",
    "Újra ki kell számolni a nagyítást az előző módon az új adatsorra, utána pedig a fókusztávolságot az alábbi összefüggéssel számolom:\n",
    "\n",
    "$f=\\frac{L}{N_2-N_1}$"
   ]
  },
  {
   "cell_type": "markdown",
   "metadata": {
    "slideshow": {
     "slide_type": "subslide"
    }
   },
   "source": [
    "# Numerikus apertúra mérése\n",
    "\n",
    "Először meg kell határozni a félnyílásszöget, amit az alábbi összefüggés ad meg:\n",
    "\n",
    "$u=\\arctan{\\frac{a}{2h}}$, ahol a az objektívek távolsága és h a magasítólap magassága.\n",
    "\n",
    "Ezután a numerikus apertúra:\n",
    "$A=n*sin{u}$, ahol n a levegő törésmutatója $n=1$"
   ]
  },
  {
   "cell_type": "markdown",
   "metadata": {
    "slideshow": {
     "slide_type": "slide"
    }
   },
   "source": [
    "# Görbületi sugár mérése Newton-gyűrűk alapján"
   ]
  },
  {
   "cell_type": "markdown",
   "metadata": {
    "slideshow": {
     "slide_type": "subslide"
    }
   },
   "source": [
    "Két mérés történt. Az elsőben csak egy domborúra, míg a másodikban egy domború és homorú lencse egymásra helyezett kettősére lettek felvéve az adatok.\n",
    "A gyűrűk valódi sugara:\n",
    "$r_k=\\frac{x_{jobb}-x_{bal}}{2N}$, ahol x a fény elmozdulása az adott tartományon.\n",
    "\n",
    "Ennek a négyzetét kell ábrázolni a gyűrűk k sorszámának függvényében. Az egyenes meredekségéből pedig megkapom a görbületi sugarat a hullámhossz segítségével:\n",
    "$R=\\frac{m}{\\lambda}$, ahol m a meredekség és $\\lambda$ a fény hullámhossza."
   ]
  },
  {
   "cell_type": "markdown",
   "metadata": {
    "slideshow": {
     "slide_type": "fragment"
    }
   },
   "source": [
    "A lencsekettősnél viszont így csak egy effektív sugarat kaphatok meg. A homorú lencse görbületi sugara:\n",
    "$R_h=\\frac{R_d*R_{eff}}{R_{eff}-R_d}$"
   ]
  },
  {
   "cell_type": "markdown",
   "metadata": {
    "slideshow": {
     "slide_type": "subslide"
    }
   },
   "source": [
    "# Példakód az egyenes illesztésére"
   ]
  },
  {
   "cell_type": "code",
   "execution_count": 8,
   "metadata": {
    "slideshow": {
     "slide_type": "subslide"
    }
   },
   "outputs": [
    {
     "name": "stdout",
     "output_type": "stream",
     "text": [
      "Populating the interactive namespace from numpy and matplotlib\n",
      "['a', 'b']\n",
      "[2.26666667 3.        ]\n",
      "[0.1356934  0.76358941]\n"
     ]
    }
   ],
   "source": [
    "%pylab inline\n",
    "from scipy.optimize import curve_fit\n",
    "\n",
    "x = array([1,2,3,4,5,6,7,8,9]) #adatsor\n",
    "y = array([6,8,9,11,15,17,18,20,25])\n",
    "\n",
    "def f(x,a,b): #Egyenes egyenlete\n",
    "    return a*x+b\n",
    "\n",
    "popt,pcov=curve_fit(f,x,y) # az illesztés elvégzése\n",
    "perr = sqrt(diag(pcov))      # az illesztési paraméterek hibáinak meghatározása\n",
    "print (['a','b'])\n",
    "print (popt)\n",
    "print (perr)"
   ]
  },
  {
   "cell_type": "code",
   "execution_count": 10,
   "metadata": {
    "slideshow": {
     "slide_type": "subslide"
    }
   },
   "outputs": [
    {
     "data": {
      "text/plain": [
       "<matplotlib.legend.Legend at 0x2284d80b8c8>"
      ]
     },
     "execution_count": 10,
     "metadata": {},
     "output_type": "execute_result"
    },
    {
     "data": {
      "image/png": "[encoded data removed]",
      "text/plain": [
       "<Figure size 432x288 with 1 Axes>"
      ]
     },
     "metadata": {
      "needs_background": "light"
     },
     "output_type": "display_data"
    }
   ],
   "source": [
    "#Ábrázolás\n",
    "plot(x,f(x,popt[0],popt[1]), label='f(x)', color='r',linewidth=3)\n",
    "plot(x, y, 'b+')\n",
    "xlabel('x [cm]', fontsize=15)\n",
    "ylabel('y [cm]', fontsize=15)\n",
    "legend(loc='lower right',fontsize=12)"
   ]
  },
  {
   "cell_type": "markdown",
   "metadata": {
    "slideshow": {
     "slide_type": "slide"
    }
   },
   "source": [
    "# Diszkusszió\n",
    "\n",
    "Mindegyik mérésre a hibaszámítás törvényei szerint elfogadható hibaértékeket kell kapni és az egyenes illesztésének is aránylag pontosnak kell lennie. A görbületi sugárnál be kell bizonyítani, hogy a homorú lencse sugarának hibaértéke a hibaöröklődéssel igencsak nő."
   ]
  },
  {
   "cell_type": "markdown",
   "metadata": {
    "slideshow": {
     "slide_type": "fragment"
    }
   },
   "source": [
    "# Forrás\n",
    "\n",
    "A mikroszkóp vizsgálata (Havancsák Károly) fejezete a laborjegyzetnek."
   ]
  }
 ],
 "metadata": {
  "celltoolbar": "Slideshow",
  "kernelspec": {
   "display_name": "Python 3",
   "language": "python",
   "name": "python3"
  },
  "language_info": {
   "codemirror_mode": {
    "name": "ipython",
    "version": 3
   },
   "file_extension": ".py",
   "mimetype": "text/x-python",
   "name": "python",
   "nbconvert_exporter": "python",
   "pygments_lexer": "ipython3",
   "version": "3.7.4"
  }
 },
 "nbformat": 4,
 "nbformat_minor": 2
}
